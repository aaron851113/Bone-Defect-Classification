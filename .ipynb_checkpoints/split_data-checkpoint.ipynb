{
 "cells": [
  {
   "cell_type": "markdown",
   "metadata": {},
   "source": [
    "### Original Dataset\n",
    "- Data\n",
    "    - Fine (16579 imgs) (1332x1330) \n",
    "    - Broke (3307 imgs) (1332x1330)"
   ]
  },
  {
   "cell_type": "markdown",
   "metadata": {},
   "source": [
    "### Target Dataset\n",
    "- Train (90%)\n",
    "    - Fine (14920) (224x224)\n",
    "    - Broke (2976) (224x224)\n",
    "- Test (10%)\n",
    "    - Fine (1658) (224x224)\n",
    "    - Broke (331) (224x224)"
   ]
  },
  {
   "cell_type": "markdown",
   "metadata": {},
   "source": [
    "### 1. Import Library"
   ]
  },
  {
   "cell_type": "code",
   "execution_count": 1,
   "metadata": {},
   "outputs": [],
   "source": [
    "import os\n",
    "import PIL.Image as Image\n",
    "import torchvision\n",
    "import glob\n",
    "from torchvision import transforms\n",
    "import matplotlib.pyplot as plt\n",
    "import numpy as np\n",
    "import warnings\n",
    "\n",
    "warnings.filterwarnings(\"ignore\")"
   ]
  },
  {
   "cell_type": "code",
   "execution_count": null,
   "metadata": {},
   "outputs": [],
   "source": []
  },
  {
   "cell_type": "markdown",
   "metadata": {},
   "source": [
    "### 2. Split Train/Test DataFolder"
   ]
  },
  {
   "cell_type": "code",
   "execution_count": 2,
   "metadata": {},
   "outputs": [
    {
     "name": "stdout",
     "output_type": "stream",
     "text": [
      "length of Fine datasets : 16578\n",
      "length of Train-Fine/Test-Fine : 14920 / 1658\n",
      "length of Broke datasets : 3307\n",
      "length of Train-Broke/Test-Broke : 2976 / 331\n"
     ]
    }
   ],
   "source": [
    "split_ratio = 0.1\n",
    "\n",
    "fine_list = glob.glob('./defect/Data/Fine/*.tif')\n",
    "print('length of Fine datasets :', len(fine_list))\n",
    "train_fine_list, test_fine_list = np.split(np.array(fine_list),[int(len(fine_list)* (1 - split_ratio))])\n",
    "print('length of Train-Fine/Test-Fine :', len(train_fine_list) ,'/', len(test_fine_list))\n",
    "\n",
    "broke_list = glob.glob('./defect/Data/Broke/*.tif')\n",
    "print('length of Broke datasets :', len(broke_list))\n",
    "train_broke_list, test_broke_list = np.split(np.array(broke_list),[int(len(broke_list)* (1 - split_ratio))])\n",
    "print('length of Train-Broke/Test-Broke :', len(train_broke_list) ,'/', len(test_broke_list))"
   ]
  },
  {
   "cell_type": "code",
   "execution_count": null,
   "metadata": {},
   "outputs": [],
   "source": []
  },
  {
   "cell_type": "markdown",
   "metadata": {},
   "source": [
    "### 3. Resize And Save data "
   ]
  },
  {
   "cell_type": "code",
   "execution_count": 3,
   "metadata": {},
   "outputs": [],
   "source": [
    "resize =  transforms.Resize(224)"
   ]
  },
  {
   "cell_type": "markdown",
   "metadata": {},
   "source": [
    "- Train/ Test Fine Data"
   ]
  },
  {
   "cell_type": "code",
   "execution_count": 4,
   "metadata": {},
   "outputs": [
    {
     "name": "stdout",
     "output_type": "stream",
     "text": [
      "Train Fine images num: 14920\n",
      "Test Fine images num: 1658\n"
     ]
    }
   ],
   "source": [
    "train_fine_path = './defect/Train/Fine/'\n",
    "test_fine_path  = './defect/Test/Fine/'\n",
    "\n",
    "for i, img_path in enumerate(train_fine_list) :\n",
    "    # read image with PIL module\n",
    "    img_pil = Image.open(img_path, mode='r')\n",
    "    img_pil = img_pil.convert('RGB')\n",
    "    new_img = resize(img_pil)\n",
    "    img_name = train_fine_path + img_path.split('/')[-1]\n",
    "    new_img.save(img_name)\n",
    "print('Train Fine images num:',i+1)\n",
    "\n",
    "for i, img_path in enumerate(test_fine_list) :\n",
    "    # read image with PIL module\n",
    "    img_pil = Image.open(img_path, mode='r')\n",
    "    img_pil = img_pil.convert('RGB')\n",
    "    new_img = resize(img_pil)\n",
    "    img_name = test_fine_path + img_path.split('/')[-1]\n",
    "    new_img.save(img_name)\n",
    "print('Test Fine images num:',i+1)"
   ]
  },
  {
   "cell_type": "markdown",
   "metadata": {},
   "source": [
    "- Train/ Test Broke Data"
   ]
  },
  {
   "cell_type": "code",
   "execution_count": 5,
   "metadata": {},
   "outputs": [
    {
     "name": "stdout",
     "output_type": "stream",
     "text": [
      "Train Broke images num: 2976\n",
      "Test Broke images num: 331\n"
     ]
    }
   ],
   "source": [
    "train_broke_path = './defect/Train/Broke/'\n",
    "test_broke_path  = './defect/Test/Broke/'\n",
    "\n",
    "for i, img_path in enumerate(train_broke_list) :\n",
    "    # read image with PIL module\n",
    "    img_pil = Image.open(img_path, mode='r')\n",
    "    img_pil = img_pil.convert('RGB')\n",
    "    new_img = resize(img_pil)\n",
    "    img_name = train_broke_path + img_path.split('/')[-1]\n",
    "    new_img.save(img_name)\n",
    "print('Train Broke images num:',i+1)\n",
    "\n",
    "for i, img_path in enumerate(test_broke_list) :\n",
    "    # read image with PIL module\n",
    "    img_pil = Image.open(img_path, mode='r')\n",
    "    img_pil = img_pil.convert('RGB')\n",
    "    new_img = resize(img_pil)\n",
    "    img_name = test_broke_path + img_path.split('/')[-1]\n",
    "    new_img.save(img_name)\n",
    "print('Test Broke images num:',i+1)"
   ]
  },
  {
   "cell_type": "code",
   "execution_count": null,
   "metadata": {},
   "outputs": [],
   "source": []
  }
 ],
 "metadata": {
  "kernelspec": {
   "display_name": "Python 3",
   "language": "python",
   "name": "python3"
  },
  "language_info": {
   "codemirror_mode": {
    "name": "ipython",
    "version": 3
   },
   "file_extension": ".py",
   "mimetype": "text/x-python",
   "name": "python",
   "nbconvert_exporter": "python",
   "pygments_lexer": "ipython3",
   "version": "3.7.4"
  }
 },
 "nbformat": 4,
 "nbformat_minor": 4
}
